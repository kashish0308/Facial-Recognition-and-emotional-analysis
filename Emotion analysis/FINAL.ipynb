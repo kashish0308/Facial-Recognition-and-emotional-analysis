{
 "cells": [
  {
   "cell_type": "code",
   "execution_count": 1,
   "metadata": {},
   "outputs": [],
   "source": [
    "import cv2 as cv\n",
    "import numpy as np"
   ]
  },
  {
   "cell_type": "markdown",
   "metadata": {},
   "source": [
    "LOADING DATASETS"
   ]
  },
  {
   "cell_type": "code",
   "execution_count": 2,
   "metadata": {},
   "outputs": [
    {
     "name": "stderr",
     "output_type": "stream",
     "text": [
      "C:\\Users\\kashi\\AppData\\Local\\Packages\\PythonSoftwareFoundation.Python.3.11_qbz5n2kfra8p0\\LocalCache\\local-packages\\Python311\\site-packages\\deeplake\\util\\check_latest_version.py:32: UserWarning: A newer version of deeplake (3.9.25) is available. It's recommended that you update to the latest version using `pip install -U deeplake`.\n",
      "  warnings.warn(\n"
     ]
    }
   ],
   "source": [
    "import deeplake"
   ]
  },
  {
   "cell_type": "code",
   "execution_count": 3,
   "metadata": {},
   "outputs": [
    {
     "name": "stderr",
     "output_type": "stream",
     "text": [
      "-"
     ]
    },
    {
     "name": "stdout",
     "output_type": "stream",
     "text": [
      "Opening dataset in read-only mode as you don't have write permissions.\n"
     ]
    },
    {
     "name": "stderr",
     "output_type": "stream",
     "text": [
      "-"
     ]
    },
    {
     "name": "stdout",
     "output_type": "stream",
     "text": [
      "This dataset can be visualized in Jupyter Notebook by ds.visualize() or at https://app.activeloop.ai/activeloop/fer2013-train\n",
      "\n"
     ]
    },
    {
     "name": "stderr",
     "output_type": "stream",
     "text": [
      "|"
     ]
    },
    {
     "name": "stdout",
     "output_type": "stream",
     "text": [
      "hub://activeloop/fer2013-train loaded successfully.\n",
      "\n"
     ]
    },
    {
     "name": "stderr",
     "output_type": "stream",
     "text": [
      " "
     ]
    }
   ],
   "source": [
    "data_train = deeplake.load('hub://activeloop/fer2013-train')"
   ]
  },
  {
   "cell_type": "code",
   "execution_count": 4,
   "metadata": {},
   "outputs": [
    {
     "name": "stdout",
     "output_type": "stream",
     "text": [
      "{'classes': '0=Angry, 1=Disgust, 2=Fear, 3=Happy, 4=Sad, 5=Surprise, 6=Neutral', 'source': 'https://www.kaggle.com/c/challenges-in-representation-learning-facial-expression-recognition-challenge/', 'title': 'Challenges in Representation Learning: Facial Expression Recognition Challenge'}\n"
     ]
    }
   ],
   "source": [
    "print(data_train.info)"
   ]
  },
  {
   "cell_type": "code",
   "execution_count": 5,
   "metadata": {},
   "outputs": [
    {
     "name": "stderr",
     "output_type": "stream",
     "text": [
      "-"
     ]
    },
    {
     "name": "stdout",
     "output_type": "stream",
     "text": [
      "Opening dataset in read-only mode as you don't have write permissions.\n"
     ]
    },
    {
     "name": "stderr",
     "output_type": "stream",
     "text": [
      "\\"
     ]
    },
    {
     "name": "stdout",
     "output_type": "stream",
     "text": [
      "This dataset can be visualized in Jupyter Notebook by ds.visualize() or at https://app.activeloop.ai/activeloop/fer2013-public-test\n",
      "\n"
     ]
    },
    {
     "name": "stderr",
     "output_type": "stream",
     "text": [
      "-"
     ]
    },
    {
     "name": "stdout",
     "output_type": "stream",
     "text": [
      "hub://activeloop/fer2013-public-test loaded successfully.\n",
      "\n"
     ]
    },
    {
     "name": "stderr",
     "output_type": "stream",
     "text": [
      " "
     ]
    }
   ],
   "source": [
    "data_test = deeplake.load('hub://activeloop/fer2013-public-test')"
   ]
  },
  {
   "cell_type": "code",
   "execution_count": 6,
   "metadata": {},
   "outputs": [
    {
     "name": "stderr",
     "output_type": "stream",
     "text": [
      "|"
     ]
    },
    {
     "name": "stdout",
     "output_type": "stream",
     "text": [
      "Opening dataset in read-only mode as you don't have write permissions.\n"
     ]
    },
    {
     "name": "stderr",
     "output_type": "stream",
     "text": [
      "-"
     ]
    },
    {
     "name": "stdout",
     "output_type": "stream",
     "text": [
      "This dataset can be visualized in Jupyter Notebook by ds.visualize() or at https://app.activeloop.ai/activeloop/fer2013-private-test\n",
      "\n"
     ]
    },
    {
     "name": "stderr",
     "output_type": "stream",
     "text": [
      " \r"
     ]
    },
    {
     "name": "stdout",
     "output_type": "stream",
     "text": [
      "hub://activeloop/fer2013-private-test loaded successfully.\n",
      "\n"
     ]
    },
    {
     "name": "stderr",
     "output_type": "stream",
     "text": []
    }
   ],
   "source": [
    "data_valid = deeplake.load('hub://activeloop/fer2013-private-test')"
   ]
  },
  {
   "cell_type": "code",
   "execution_count": 7,
   "metadata": {},
   "outputs": [],
   "source": [
    "images=data_train['images']\n",
    "labels=data_train['labels']"
   ]
  },
  {
   "cell_type": "code",
   "execution_count": 8,
   "metadata": {},
   "outputs": [
    {
     "data": {
      "image/png": "[encoded data removed]",
      "text/plain": [
       "<Figure size 640x480 with 1 Axes>"
      ]
     },
     "metadata": {},
     "output_type": "display_data"
    }
   ],
   "source": [
    "import matplotlib.pyplot as plt\n",
    "\n",
    "plt.imshow(images[9].numpy(), cmap='gray')\n",
    "plt.title(f'Label: {labels[9].numpy()}')\n",
    "plt.show()"
   ]
  },
  {
   "cell_type": "markdown",
   "metadata": {},
   "source": [
    "PREPROCESSING DATA"
   ]
  },
  {
   "cell_type": "code",
   "execution_count": 9,
   "metadata": {},
   "outputs": [
    {
     "name": "stdout",
     "output_type": "stream",
     "text": [
      "28709\n"
     ]
    }
   ],
   "source": [
    "print(len(images))"
   ]
  },
  {
   "cell_type": "code",
   "execution_count": 10,
   "metadata": {},
   "outputs": [
    {
     "name": "stdout",
     "output_type": "stream",
     "text": [
      "0\n",
      "500\n",
      "1000\n",
      "1500\n",
      "2000\n",
      "2500\n",
      "3000\n",
      "3500\n",
      "4000\n",
      "4500\n",
      "5000\n",
      "5500\n",
      "6000\n",
      "6500\n",
      "7000\n",
      "7500\n",
      "8000\n",
      "8500\n",
      "9000\n",
      "9500\n",
      "10000\n",
      "10500\n",
      "11000\n",
      "11500\n",
      "12000\n",
      "12500\n",
      "13000\n",
      "13500\n",
      "14000\n",
      "14500\n",
      "15000\n",
      "15500\n",
      "16000\n",
      "16500\n",
      "17000\n",
      "17500\n",
      "18000\n",
      "18500\n",
      "19000\n",
      "19500\n",
      "20000\n",
      "20500\n",
      "21000\n",
      "21500\n",
      "22000\n",
      "22500\n",
      "23000\n",
      "23500\n",
      "24000\n",
      "24500\n",
      "25000\n",
      "25500\n",
      "26000\n",
      "26500\n",
      "27000\n",
      "27500\n",
      "28000\n",
      "28500\n"
     ]
    }
   ],
   "source": [
    "batch_size = 500 \n",
    "images_list = []\n",
    "\n",
    "for i in range(0, len(images), batch_size):\n",
    "    batch = images[i:i + batch_size]\n",
    "    batch_np = np.array([image.numpy() for image in batch])\n",
    "    images_list.append(batch_np)\n",
    "    print(i)\n",
    "\n",
    "image = np.concatenate(images_list, axis=0)\n"
   ]
  },
  {
   "cell_type": "code",
   "execution_count": 11,
   "metadata": {},
   "outputs": [],
   "source": [
    "label = np.array([label.numpy() for label in labels])"
   ]
  },
  {
   "cell_type": "code",
   "execution_count": 12,
   "metadata": {},
   "outputs": [
    {
     "name": "stdout",
     "output_type": "stream",
     "text": [
      "[2]\n"
     ]
    }
   ],
   "source": [
    "print(label[5])"
   ]
  },
  {
   "cell_type": "code",
   "execution_count": 13,
   "metadata": {},
   "outputs": [
    {
     "name": "stdout",
     "output_type": "stream",
     "text": [
      "[[151 150 147 ... 129 140 120]\n",
      " [151 149 149 ... 122 141 137]\n",
      " [151 151 156 ... 109 123 146]\n",
      " ...\n",
      " [188 188 121 ... 185 185 186]\n",
      " [188 187 196 ... 186 182 187]\n",
      " [186 184 185 ... 193 183 184]]\n"
     ]
    }
   ],
   "source": [
    "print(image[1])"
   ]
  },
  {
   "cell_type": "code",
   "execution_count": 14,
   "metadata": {},
   "outputs": [
    {
     "name": "stdout",
     "output_type": "stream",
     "text": [
      "[[0.59215686 0.58823529 0.57647059 ... 0.50588235 0.54901961 0.47058824]\n",
      " [0.59215686 0.58431373 0.58431373 ... 0.47843137 0.55294118 0.5372549 ]\n",
      " [0.59215686 0.59215686 0.61176471 ... 0.42745098 0.48235294 0.57254902]\n",
      " ...\n",
      " [0.7372549  0.7372549  0.4745098  ... 0.7254902  0.7254902  0.72941176]\n",
      " [0.7372549  0.73333333 0.76862745 ... 0.72941176 0.71372549 0.73333333]\n",
      " [0.72941176 0.72156863 0.7254902  ... 0.75686275 0.71764706 0.72156863]]\n"
     ]
    }
   ],
   "source": [
    "#print(images[3].numpy())\n",
    "\n",
    "image=image/255\n",
    "\n",
    "print(image[1])"
   ]
  },
  {
   "cell_type": "markdown",
   "metadata": {},
   "source": [
    "DATA_SPLIT"
   ]
  },
  {
   "cell_type": "code",
   "execution_count": 15,
   "metadata": {},
   "outputs": [],
   "source": [
    "x_test=np.array([image.numpy() for image in data_test['images'] ])\n",
    "y_test=np.array([label.numpy() for label in data_test['labels'] ])"
   ]
  },
  {
   "cell_type": "code",
   "execution_count": 16,
   "metadata": {},
   "outputs": [
    {
     "name": "stdout",
     "output_type": "stream",
     "text": [
      "Shape of X_test:  (3589, 48, 48)\n",
      "Shape of Y_test:  (3589, 1)\n"
     ]
    }
   ],
   "source": [
    "print(\"Shape of X_test: \", x_test.shape)\n",
    "print(\"Shape of Y_test: \", y_test.shape)"
   ]
  },
  {
   "cell_type": "code",
   "execution_count": 17,
   "metadata": {},
   "outputs": [],
   "source": [
    "x_valid=np.array([image.numpy() for image in data_valid['images'] ])\n",
    "y_valid=np.array([label.numpy() for label in data_valid['labels'] ])"
   ]
  },
  {
   "cell_type": "markdown",
   "metadata": {},
   "source": [
    "MODEL BUILDING"
   ]
  },
  {
   "cell_type": "code",
   "execution_count": 18,
   "metadata": {},
   "outputs": [],
   "source": [
    "from tensorflow.keras.models import Sequential\n",
    "from tensorflow.keras.layers import Conv2D, MaxPooling2D, Flatten,Dense"
   ]
  },
  {
   "cell_type": "code",
   "execution_count": 19,
   "metadata": {},
   "outputs": [
    {
     "name": "stderr",
     "output_type": "stream",
     "text": [
      "C:\\Users\\kashi\\AppData\\Local\\Packages\\PythonSoftwareFoundation.Python.3.11_qbz5n2kfra8p0\\LocalCache\\local-packages\\Python311\\site-packages\\keras\\src\\layers\\convolutional\\base_conv.py:107: UserWarning: Do not pass an `input_shape`/`input_dim` argument to a layer. When using Sequential models, prefer using an `Input(shape)` object as the first layer in the model instead.\n",
      "  super().__init__(activity_regularizer=activity_regularizer, **kwargs)\n"
     ]
    }
   ],
   "source": [
    "model= Sequential([\n",
    "    Conv2D(32,(3,3),activation='relu',input_shape=(48,48,1)),\n",
    "    MaxPooling2D((2,2)),\n",
    "\n",
    "    Flatten(),\n",
    "    Dense(64, activation='relu'),\n",
    "    Dense(7,activation='softmax'),\n",
    "])\n"
   ]
  },
  {
   "cell_type": "code",
   "execution_count": 20,
   "metadata": {},
   "outputs": [],
   "source": [
    "model.compile(loss='sparse_categorical_crossentropy',optimizer='adam',metrics=['accuracy'])"
   ]
  },
  {
   "cell_type": "code",
   "execution_count": 21,
   "metadata": {},
   "outputs": [],
   "source": [
    "from tensorflow.keras.callbacks import EarlyStopping\n",
    "\n",
    "early_stopping = EarlyStopping(monitor='val_loss', patience=3)\n"
   ]
  },
  {
   "cell_type": "code",
   "execution_count": 22,
   "metadata": {},
   "outputs": [
    {
     "name": "stdout",
     "output_type": "stream",
     "text": [
      "Epoch 1/5\n",
      "\u001b[1m898/898\u001b[0m \u001b[32m━━━━━━━━━━━━━━━━━━━━\u001b[0m\u001b[37m\u001b[0m \u001b[1m10s\u001b[0m 10ms/step - accuracy: 0.3166 - loss: 1.7161 - val_accuracy: 0.3252 - val_loss: 187.9619\n",
      "Epoch 2/5\n",
      "\u001b[1m898/898\u001b[0m \u001b[32m━━━━━━━━━━━━━━━━━━━━\u001b[0m\u001b[37m\u001b[0m \u001b[1m8s\u001b[0m 9ms/step - accuracy: 0.4519 - loss: 1.4531 - val_accuracy: 0.2806 - val_loss: 199.8005\n",
      "Epoch 3/5\n",
      "\u001b[1m898/898\u001b[0m \u001b[32m━━━━━━━━━━━━━━━━━━━━\u001b[0m\u001b[37m\u001b[0m \u001b[1m8s\u001b[0m 9ms/step - accuracy: 0.4906 - loss: 1.3523 - val_accuracy: 0.3271 - val_loss: 220.2530\n",
      "Epoch 4/5\n",
      "\u001b[1m898/898\u001b[0m \u001b[32m━━━━━━━━━━━━━━━━━━━━\u001b[0m\u001b[37m\u001b[0m \u001b[1m8s\u001b[0m 9ms/step - accuracy: 0.5221 - loss: 1.2563 - val_accuracy: 0.3143 - val_loss: 315.0678\n"
     ]
    },
    {
     "data": {
      "text/plain": [
       "<keras.src.callbacks.history.History at 0x2064a168ed0>"
      ]
     },
     "execution_count": 22,
     "metadata": {},
     "output_type": "execute_result"
    }
   ],
   "source": [
    "model.fit(image,\n",
    "          label,\n",
    "          batch_size=32,\n",
    "          epochs=5,\n",
    "          validation_data=(x_valid,y_valid),\n",
    "          callbacks=[early_stopping]\n",
    ")"
   ]
  },
  {
   "cell_type": "code",
   "execution_count": 23,
   "metadata": {},
   "outputs": [
    {
     "name": "stdout",
     "output_type": "stream",
     "text": [
      "\u001b[1m113/113\u001b[0m \u001b[32m━━━━━━━━━━━━━━━━━━━━\u001b[0m\u001b[37m\u001b[0m \u001b[1m0s\u001b[0m 3ms/step - accuracy: 0.3244 - loss: 318.0109\n"
     ]
    }
   ],
   "source": [
    "loss, accuracy= model.evaluate(x_test,y_test)"
   ]
  },
  {
   "cell_type": "markdown",
   "metadata": {},
   "source": [
    "PREDICTING"
   ]
  },
  {
   "cell_type": "code",
   "execution_count": 24,
   "metadata": {},
   "outputs": [],
   "source": [
    "import random"
   ]
  },
  {
   "cell_type": "code",
   "execution_count": 25,
   "metadata": {},
   "outputs": [],
   "source": [
    "emotion_labels = {\n",
    "    0: 'Angry',\n",
    "    1: 'Disgust',\n",
    "    2: 'Fear',\n",
    "    3: 'Happy',\n",
    "    4: 'Sad',\n",
    "    5: 'Surprise',\n",
    "    6: 'Neutral'\n",
    "}\n",
    "\n",
    "#emotion_labels[0]"
   ]
  },
  {
   "cell_type": "code",
   "execution_count": 44,
   "metadata": {},
   "outputs": [
    {
     "data": {
      "image/png": "[encoded data removed]",
      "text/plain": [
       "<Figure size 640x480 with 1 Axes>"
      ]
     },
     "metadata": {},
     "output_type": "display_data"
    },
    {
     "name": "stdout",
     "output_type": "stream",
     "text": [
      "\u001b[1m1/1\u001b[0m \u001b[32m━━━━━━━━━━━━━━━━━━━━\u001b[0m\u001b[37m\u001b[0m \u001b[1m0s\u001b[0m 24ms/step\n",
      "Surprise\n"
     ]
    }
   ],
   "source": [
    "num = random.randint(0,len(y_test))\n",
    "plt.imshow(x_test[num,:],cmap='gray')\n",
    "plt.show()\n",
    "\n",
    "y_pred=model.predict(x_test[num, :].reshape(1,48,48,1))\n",
    "#print(y_pred)\n",
    "\n",
    "y=np.array(y_pred[0])\n",
    "\"\"\"print(y)\n",
    "print(y[2])\"\"\"\n",
    "\n",
    "for i in range(len(y)):\n",
    "    if y[i]==1:\n",
    "        print(emotion_labels[i])"
   ]
  },
  {
   "cell_type": "markdown",
   "metadata": {},
   "source": [
    "LIVE RECOGNITION"
   ]
  },
  {
   "cell_type": "code",
   "execution_count": 27,
   "metadata": {},
   "outputs": [],
   "source": [
    "#import cv2 as cv"
   ]
  },
  {
   "cell_type": "code",
   "execution_count": 28,
   "metadata": {},
   "outputs": [
    {
     "data": {
      "text/plain": [
       "\"video=cv.VideoCapture(0)\\nhaar_cascade=cv.CascadeClassifier('haar_face.xml')\""
      ]
     },
     "execution_count": 28,
     "metadata": {},
     "output_type": "execute_result"
    }
   ],
   "source": [
    "\"\"\"video=cv.VideoCapture(0)\n",
    "haar_cascade=cv.CascadeClassifier('haar_face.xml')\"\"\""
   ]
  },
  {
   "cell_type": "code",
   "execution_count": 29,
   "metadata": {},
   "outputs": [
    {
     "name": "stderr",
     "output_type": "stream",
     "text": [
      "WARNING:absl:You are saving your model as an HDF5 file via `model.save()` or `keras.saving.save_model(model)`. This file format is considered legacy. We recommend using instead the native Keras format, e.g. `model.save('my_model.keras')` or `keras.saving.save_model(model, 'my_model.keras')`. \n"
     ]
    }
   ],
   "source": [
    "model.save('my_model.h5')"
   ]
  },
  {
   "cell_type": "code",
   "execution_count": 30,
   "metadata": {},
   "outputs": [
    {
     "data": {
      "text/plain": [
       "\"while True:\\n    \\n    ret,frames=video.read()\\n\\n    if not ret:\\n        break\\n    #cv.imshow('video',frames)\\n\\n    grey=cv.cvtColor(frames,cv.COLOR_BGR2GRAY)\\n    resized=cv.resize(frames,(48,48))\\n    normalized= resized/255.0\\n\\n    cv.imshow('grey',grey)\\n\\n    reshaped_frame = np.expand_dims(normalized, axis=(0, -1))\\n\\n    reshaped_frame.size()\\n\\n    predictions= model.predict(reshaped_frame)\\n    pred_1 =np.array(predictions[0])\\n\\n    for i in range(len(pred_1)):\\n\\n        if pred_1[i]==1:\\n            emotion_label=emotion_labels[i]\\n\\n    cv.putText(frames, emotion_label, (50, 50), cv.FONT_HERSHEY_SIMPLEX,1, (255, 0, 0), 2, cv.LINE_AA)\\n    cv.imshow('Live Video', frames)\\n\\n    if(cv.waitKey(1) & 0xFF==ord('d')):\\n        break\\n\\n    faces_rect=haar_cascade.detectMultiScale(grey,scaleFactor=1.1,minNeighbors=3)\\n    print(len(faces_rect))\\n\\n    for (x,y,w,h) in faces_rect:\\n        cv.rectangle(grey,(x,y),(x+w,y+h),(0,255,0),1)\\n\\n    cv.imshow('grey',grey)\\n\\n    if(cv.waitKey(20) & 0xFF==ord('d')):\\n        break\\n\\nvideo.release()\\ncv.destroyAllWindows()\\n\\ncv.waitKey(0)\""
      ]
     },
     "execution_count": 30,
     "metadata": {},
     "output_type": "execute_result"
    }
   ],
   "source": [
    "\"\"\"while True:\n",
    "    \n",
    "    ret,frames=video.read()\n",
    "\n",
    "    if not ret:\n",
    "        break\n",
    "    #cv.imshow('video',frames)\n",
    "\n",
    "    grey=cv.cvtColor(frames,cv.COLOR_BGR2GRAY)\n",
    "    resized=cv.resize(frames,(48,48))\n",
    "    normalized= resized/255.0\n",
    "\n",
    "    cv.imshow('grey',grey)\n",
    "\n",
    "    reshaped_frame = np.expand_dims(normalized, axis=(0, -1))\n",
    "\n",
    "    reshaped_frame.size()\n",
    "\n",
    "    predictions= model.predict(reshaped_frame)\n",
    "    pred_1 =np.array(predictions[0])\n",
    "\n",
    "    for i in range(len(pred_1)):\n",
    "\n",
    "        if pred_1[i]==1:\n",
    "            emotion_label=emotion_labels[i]\n",
    "\n",
    "    cv.putText(frames, emotion_label, (50, 50), cv.FONT_HERSHEY_SIMPLEX,1, (255, 0, 0), 2, cv.LINE_AA)\n",
    "    cv.imshow('Live Video', frames)\n",
    "\n",
    "    if(cv.waitKey(1) & 0xFF==ord('d')):\n",
    "        break\n",
    "\n",
    "    faces_rect=haar_cascade.detectMultiScale(grey,scaleFactor=1.1,minNeighbors=3)\n",
    "    print(len(faces_rect))\n",
    "\n",
    "    for (x,y,w,h) in faces_rect:\n",
    "        cv.rectangle(grey,(x,y),(x+w,y+h),(0,255,0),1)\n",
    "\n",
    "    cv.imshow('grey',grey)\n",
    "\n",
    "    if(cv.waitKey(20) & 0xFF==ord('d')):\n",
    "        break\n",
    "\n",
    "video.release()\n",
    "cv.destroyAllWindows()\n",
    "\n",
    "cv.waitKey(0)\"\"\""
   ]
  }
 ],
 "metadata": {
  "kernelspec": {
   "display_name": "Python 3",
   "language": "python",
   "name": "python3"
  },
  "language_info": {
   "codemirror_mode": {
    "name": "ipython",
    "version": 3
   },
   "file_extension": ".py",
   "mimetype": "text/x-python",
   "name": "python",
   "nbconvert_exporter": "python",
   "pygments_lexer": "ipython3",
   "version": "3.11.9"
  }
 },
 "nbformat": 4,
 "nbformat_minor": 2
}
