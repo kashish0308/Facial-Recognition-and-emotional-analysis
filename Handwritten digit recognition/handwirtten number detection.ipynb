{
 "cells": [
  {
   "cell_type": "code",
   "execution_count": 1,
   "metadata": {},
   "outputs": [],
   "source": [
    "import numpy as np\n",
    "from tensorflow.keras import datasets\n",
    "from tensorflow.keras.layers import Conv2D, Activation, MaxPooling2D, Dense, Flatten\n",
    "from tensorflow.keras.models import Sequential\n",
    "#from tensorflow.keras.preprocessing.image import ImageDataGenera\n",
    "import random\n",
    "import matplotlib.pyplot as plt"
   ]
  },
  {
   "cell_type": "markdown",
   "metadata": {},
   "source": [
    "DATASET"
   ]
  },
  {
   "cell_type": "code",
   "execution_count": 2,
   "metadata": {},
   "outputs": [],
   "source": [
    "(train_images, train_labels), (test_images, test_labels) = datasets.mnist.load_data()"
   ]
  },
  {
   "cell_type": "code",
   "execution_count": 3,
   "metadata": {},
   "outputs": [],
   "source": [
    "train_images = train_images / 255.0\n",
    "test_images = test_images / 255.0"
   ]
  },
  {
   "cell_type": "code",
   "execution_count": 5,
   "metadata": {},
   "outputs": [],
   "source": [
    "X_train =  (np.loadtxt( 'MNIST_CSV[1]/mnist_train.csv' , delimiter=','))/255\n",
    "X_test =  (np.loadtxt( 'MNIST_CSV[1]/mnist_test.csv' , delimiter=','))/255"
   ]
  },
  {
   "cell_type": "code",
   "execution_count": 4,
   "metadata": {},
   "outputs": [],
   "source": [
    "train_images = train_images.reshape((train_images.shape[0], 28, 28, 1))\n",
    "test_images = test_images.reshape((test_images.shape[0], 28, 28, 1))"
   ]
  },
  {
   "cell_type": "code",
   "execution_count": 7,
   "metadata": {},
   "outputs": [
    {
     "name": "stdout",
     "output_type": "stream",
     "text": [
      "Shape of X_train:  (60000, 28, 28)\n",
      "Shape of X_test:  (60000,)\n",
      "Shape of X_train:  (10000, 28, 28)\n",
      "Shape of X_test:  (10000,)\n"
     ]
    }
   ],
   "source": [
    "print(\"Shape of X_train: \", train_images.shape)\n",
    "print(\"Shape of X_test: \", train_labels.shape)\n",
    "print(\"Shape of X_train: \", test_images.shape)\n",
    "print(\"Shape of X_test: \", test_labels.shape)"
   ]
  },
  {
   "cell_type": "code",
   "execution_count": 8,
   "metadata": {},
   "outputs": [
    {
     "name": "stdout",
     "output_type": "stream",
     "text": [
      "[[0.         0.         0.         0.         0.         0.\n",
      "  0.         0.         0.         0.         0.         0.\n",
      "  0.         0.         0.         0.         0.         0.\n",
      "  0.         0.         0.         0.         0.         0.\n",
      "  0.         0.         0.         0.        ]\n",
      " [0.         0.         0.         0.         0.         0.\n",
      "  0.         0.         0.         0.         0.         0.\n",
      "  0.         0.         0.         0.         0.         0.\n",
      "  0.         0.         0.         0.         0.         0.\n",
      "  0.         0.         0.         0.        ]\n",
      " [0.         0.         0.         0.         0.         0.\n",
      "  0.         0.         0.         0.         0.         0.\n",
      "  0.         0.         0.         0.         0.         0.\n",
      "  0.         0.         0.         0.         0.         0.\n",
      "  0.         0.         0.         0.        ]\n",
      " [0.         0.         0.         0.         0.         0.\n",
      "  0.         0.         0.         0.         0.         0.\n",
      "  0.         0.         0.         0.         0.         0.\n",
      "  0.         0.         0.         0.         0.         0.\n",
      "  0.         0.         0.         0.        ]\n",
      " [0.         0.         0.         0.         0.         0.\n",
      "  0.         0.         0.         0.         0.         0.\n",
      "  0.         0.         0.         0.2        0.62352941 0.99215686\n",
      "  0.62352941 0.19607843 0.         0.         0.         0.\n",
      "  0.         0.         0.         0.        ]\n",
      " [0.         0.         0.         0.         0.         0.\n",
      "  0.         0.         0.         0.         0.         0.\n",
      "  0.         0.         0.18823529 0.93333333 0.98823529 0.98823529\n",
      "  0.98823529 0.92941176 0.         0.         0.         0.\n",
      "  0.         0.         0.         0.        ]\n",
      " [0.         0.         0.         0.         0.         0.\n",
      "  0.         0.         0.         0.         0.         0.\n",
      "  0.         0.21176471 0.89019608 0.99215686 0.98823529 0.9372549\n",
      "  0.91372549 0.98823529 0.22352941 0.02352941 0.         0.\n",
      "  0.         0.         0.         0.        ]\n",
      " [0.         0.         0.         0.         0.         0.\n",
      "  0.         0.         0.         0.         0.         0.03921569\n",
      "  0.23529412 0.87843137 0.98823529 0.99215686 0.98823529 0.79215686\n",
      "  0.32941176 0.98823529 0.99215686 0.47843137 0.         0.\n",
      "  0.         0.         0.         0.        ]\n",
      " [0.         0.         0.         0.         0.         0.\n",
      "  0.         0.         0.         0.         0.         0.63921569\n",
      "  0.98823529 0.98823529 0.98823529 0.99215686 0.98823529 0.98823529\n",
      "  0.37647059 0.74117647 0.99215686 0.65490196 0.         0.\n",
      "  0.         0.         0.         0.        ]\n",
      " [0.         0.         0.         0.         0.         0.\n",
      "  0.         0.         0.         0.         0.2        0.93333333\n",
      "  0.99215686 0.99215686 0.74509804 0.44705882 0.99215686 0.89411765\n",
      "  0.18431373 0.30980392 1.         0.65882353 0.         0.\n",
      "  0.         0.         0.         0.        ]\n",
      " [0.         0.         0.         0.         0.         0.\n",
      "  0.         0.         0.         0.18823529 0.93333333 0.98823529\n",
      "  0.98823529 0.70196078 0.04705882 0.29411765 0.4745098  0.08235294\n",
      "  0.         0.         0.99215686 0.95294118 0.19607843 0.\n",
      "  0.         0.         0.         0.        ]\n",
      " [0.         0.         0.         0.         0.         0.\n",
      "  0.         0.         0.14901961 0.64705882 0.99215686 0.91372549\n",
      "  0.81568627 0.32941176 0.         0.         0.         0.\n",
      "  0.         0.         0.99215686 0.98823529 0.64705882 0.\n",
      "  0.         0.         0.         0.        ]\n",
      " [0.         0.         0.         0.         0.         0.\n",
      "  0.         0.02745098 0.69803922 0.98823529 0.94117647 0.27843137\n",
      "  0.0745098  0.10980392 0.         0.         0.         0.\n",
      "  0.         0.         0.99215686 0.98823529 0.76470588 0.\n",
      "  0.         0.         0.         0.        ]\n",
      " [0.         0.         0.         0.         0.         0.\n",
      "  0.         0.22352941 0.98823529 0.98823529 0.24705882 0.\n",
      "  0.         0.         0.         0.         0.         0.\n",
      "  0.         0.         0.99215686 0.98823529 0.76470588 0.\n",
      "  0.         0.         0.         0.        ]\n",
      " [0.         0.         0.         0.         0.         0.\n",
      "  0.         0.77647059 0.99215686 0.74509804 0.         0.\n",
      "  0.         0.         0.         0.         0.         0.\n",
      "  0.         0.         1.         0.99215686 0.76862745 0.\n",
      "  0.         0.         0.         0.        ]\n",
      " [0.         0.         0.         0.         0.         0.\n",
      "  0.29803922 0.96470588 0.98823529 0.43921569 0.         0.\n",
      "  0.         0.         0.         0.         0.         0.\n",
      "  0.         0.         0.99215686 0.98823529 0.58039216 0.\n",
      "  0.         0.         0.         0.        ]\n",
      " [0.         0.         0.         0.         0.         0.\n",
      "  0.33333333 0.98823529 0.90196078 0.09803922 0.         0.\n",
      "  0.         0.         0.         0.         0.         0.\n",
      "  0.02745098 0.52941176 0.99215686 0.72941176 0.04705882 0.\n",
      "  0.         0.         0.         0.        ]\n",
      " [0.         0.         0.         0.         0.         0.\n",
      "  0.33333333 0.98823529 0.8745098  0.         0.         0.\n",
      "  0.         0.         0.         0.         0.         0.02745098\n",
      "  0.51372549 0.98823529 0.88235294 0.27843137 0.         0.\n",
      "  0.         0.         0.         0.        ]\n",
      " [0.         0.         0.         0.         0.         0.\n",
      "  0.33333333 0.98823529 0.56862745 0.         0.         0.\n",
      "  0.         0.         0.         0.         0.18823529 0.64705882\n",
      "  0.98823529 0.67843137 0.         0.         0.         0.\n",
      "  0.         0.         0.         0.        ]\n",
      " [0.         0.         0.         0.         0.         0.\n",
      "  0.3372549  0.99215686 0.88235294 0.         0.         0.\n",
      "  0.         0.         0.         0.44705882 0.93333333 0.99215686\n",
      "  0.63529412 0.         0.         0.         0.         0.\n",
      "  0.         0.         0.         0.        ]\n",
      " [0.         0.         0.         0.         0.         0.\n",
      "  0.33333333 0.98823529 0.97647059 0.57254902 0.18823529 0.11372549\n",
      "  0.33333333 0.69803922 0.88235294 0.99215686 0.8745098  0.65490196\n",
      "  0.21960784 0.         0.         0.         0.         0.\n",
      "  0.         0.         0.         0.        ]\n",
      " [0.         0.         0.         0.         0.         0.\n",
      "  0.33333333 0.98823529 0.98823529 0.98823529 0.89803922 0.84313725\n",
      "  0.98823529 0.98823529 0.98823529 0.76862745 0.50980392 0.\n",
      "  0.         0.         0.         0.         0.         0.\n",
      "  0.         0.         0.         0.        ]\n",
      " [0.         0.         0.         0.         0.         0.\n",
      "  0.10980392 0.78039216 0.98823529 0.98823529 0.99215686 0.98823529\n",
      "  0.98823529 0.91372549 0.56862745 0.         0.         0.\n",
      "  0.         0.         0.         0.         0.         0.\n",
      "  0.         0.         0.         0.        ]\n",
      " [0.         0.         0.         0.         0.         0.\n",
      "  0.         0.09803922 0.50196078 0.98823529 0.99215686 0.98823529\n",
      "  0.55294118 0.14509804 0.         0.         0.         0.\n",
      "  0.         0.         0.         0.         0.         0.\n",
      "  0.         0.         0.         0.        ]\n",
      " [0.         0.         0.         0.         0.         0.\n",
      "  0.         0.         0.         0.         0.         0.\n",
      "  0.         0.         0.         0.         0.         0.\n",
      "  0.         0.         0.         0.         0.         0.\n",
      "  0.         0.         0.         0.        ]\n",
      " [0.         0.         0.         0.         0.         0.\n",
      "  0.         0.         0.         0.         0.         0.\n",
      "  0.         0.         0.         0.         0.         0.\n",
      "  0.         0.         0.         0.         0.         0.\n",
      "  0.         0.         0.         0.        ]\n",
      " [0.         0.         0.         0.         0.         0.\n",
      "  0.         0.         0.         0.         0.         0.\n",
      "  0.         0.         0.         0.         0.         0.\n",
      "  0.         0.         0.         0.         0.         0.\n",
      "  0.         0.         0.         0.        ]\n",
      " [0.         0.         0.         0.         0.         0.\n",
      "  0.         0.         0.         0.         0.         0.\n",
      "  0.         0.         0.         0.         0.         0.\n",
      "  0.         0.         0.         0.         0.         0.\n",
      "  0.         0.         0.         0.        ]]\n"
     ]
    }
   ],
   "source": [
    "print(train_images[1,:])"
   ]
  },
  {
   "cell_type": "code",
   "execution_count": 23,
   "metadata": {},
   "outputs": [
    {
     "data": {
      "image/png": "[encoded data removed]",
      "text/plain": [
       "<Figure size 640x480 with 1 Axes>"
      ]
     },
     "metadata": {},
     "output_type": "display_data"
    }
   ],
   "source": [
    "idx = random.randint(0, len(X_train))\n",
    "plt.imshow(train_images[idx, :] ,cmap='grey')\n",
    "plt.show()"
   ]
  },
  {
   "cell_type": "markdown",
   "metadata": {},
   "source": [
    "MODEL"
   ]
  },
  {
   "cell_type": "code",
   "execution_count": 37,
   "metadata": {},
   "outputs": [
    {
     "name": "stderr",
     "output_type": "stream",
     "text": [
      "C:\\Users\\kashi\\AppData\\Local\\Packages\\PythonSoftwareFoundation.Python.3.11_qbz5n2kfra8p0\\LocalCache\\local-packages\\Python311\\site-packages\\keras\\src\\layers\\convolutional\\base_conv.py:107: UserWarning: Do not pass an `input_shape`/`input_dim` argument to a layer. When using Sequential models, prefer using an `Input(shape)` object as the first layer in the model instead.\n",
      "  super().__init__(activity_regularizer=activity_regularizer, **kwargs)\n"
     ]
    }
   ],
   "source": [
    "model = Sequential([\n",
    "\n",
    "    Conv2D(32, (3,3), activation='relu', input_shape =(28,28,1)),\n",
    "    MaxPooling2D((2,2)),\n",
    "    \n",
    "    Conv2D(32,(3,3), activation='relu'),\n",
    "    MaxPooling2D((2,2)),\n",
    "\n",
    "    Flatten(),\n",
    "    Dense(64, activation='relu'),\n",
    "    Dense(10,activation='softmax')\n",
    "])"
   ]
  },
  {
   "cell_type": "code",
   "execution_count": 40,
   "metadata": {},
   "outputs": [],
   "source": [
    "model.compile(loss='sparse_categorical_crossentropy', optimizer='adam', metrics=['accuracy'])"
   ]
  },
  {
   "cell_type": "code",
   "execution_count": 41,
   "metadata": {},
   "outputs": [
    {
     "name": "stdout",
     "output_type": "stream",
     "text": [
      "Epoch 1/5\n",
      "\u001b[1m1875/1875\u001b[0m \u001b[32m━━━━━━━━━━━━━━━━━━━━\u001b[0m\u001b[37m\u001b[0m \u001b[1m15s\u001b[0m 7ms/step - accuracy: 0.8850 - loss: 0.3744 - val_accuracy: 0.9843 - val_loss: 0.0549\n",
      "Epoch 2/5\n",
      "\u001b[1m1875/1875\u001b[0m \u001b[32m━━━━━━━━━━━━━━━━━━━━\u001b[0m\u001b[37m\u001b[0m \u001b[1m15s\u001b[0m 8ms/step - accuracy: 0.9824 - loss: 0.0573 - val_accuracy: 0.9869 - val_loss: 0.0399\n",
      "Epoch 3/5\n",
      "\u001b[1m1875/1875\u001b[0m \u001b[32m━━━━━━━━━━━━━━━━━━━━\u001b[0m\u001b[37m\u001b[0m \u001b[1m14s\u001b[0m 7ms/step - accuracy: 0.9887 - loss: 0.0368 - val_accuracy: 0.9860 - val_loss: 0.0419\n",
      "Epoch 4/5\n",
      "\u001b[1m1875/1875\u001b[0m \u001b[32m━━━━━━━━━━━━━━━━━━━━\u001b[0m\u001b[37m\u001b[0m \u001b[1m13s\u001b[0m 7ms/step - accuracy: 0.9919 - loss: 0.0259 - val_accuracy: 0.9887 - val_loss: 0.0318\n",
      "Epoch 5/5\n",
      "\u001b[1m1875/1875\u001b[0m \u001b[32m━━━━━━━━━━━━━━━━━━━━\u001b[0m\u001b[37m\u001b[0m \u001b[1m14s\u001b[0m 7ms/step - accuracy: 0.9934 - loss: 0.0208 - val_accuracy: 0.9905 - val_loss: 0.0288\n"
     ]
    }
   ],
   "source": [
    "history = model.fit(train_images, train_labels, epochs=5, validation_data=(test_images, test_labels))"
   ]
  },
  {
   "cell_type": "code",
   "execution_count": 43,
   "metadata": {},
   "outputs": [
    {
     "name": "stdout",
     "output_type": "stream",
     "text": [
      "313/313 - 1s - 3ms/step - accuracy: 0.9905 - loss: 0.0288\n",
      "Test accuracy: 0.9904999732971191\n"
     ]
    }
   ],
   "source": [
    "test_loss, test_acc = model.evaluate(test_images, test_labels, verbose=2)\n",
    "print(f'Test accuracy: {test_acc}')\n"
   ]
  },
  {
   "cell_type": "code",
   "execution_count": 99,
   "metadata": {},
   "outputs": [
    {
     "data": {
      "image/png": "[encoded data removed]",
      "text/plain": [
       "<Figure size 640x480 with 1 Axes>"
      ]
     },
     "metadata": {},
     "output_type": "display_data"
    },
    {
     "name": "stdout",
     "output_type": "stream",
     "text": [
      "\u001b[1m1/1\u001b[0m \u001b[32m━━━━━━━━━━━━━━━━━━━━\u001b[0m\u001b[37m\u001b[0m \u001b[1m0s\u001b[0m 19ms/step\n",
      "[[4.8045489e-08 3.8141387e-08 1.4020350e-09 5.1049405e-09 4.2112424e-06\n",
      "  1.3754195e-07 2.1085174e-12 9.9998903e-01 8.8501089e-08 6.4447649e-06]]\n",
      "7\n"
     ]
    }
   ],
   "source": [
    "index=random.randint(0, len(test_labels))\n",
    "plt.imshow(test_images[index,:],cmap='grey')\n",
    "plt.show()\n",
    "\n",
    "y_pred=model.predict(test_images [index,:].reshape(1,28,28,1))\n",
    "print(y_pred)\n",
    "\n",
    "\"\"\"out=[x*10 for x in y_pred]\n",
    "print(out)\n",
    "print(out[0][2])\"\"\"\n",
    "for i in range(10):\n",
    "    if(y_pred[0][i]>=0.5):\n",
    "        print(i)\n"
   ]
  }
 ],
 "metadata": {
  "kernelspec": {
   "display_name": "Python 3",
   "language": "python",
   "name": "python3"
  },
  "language_info": {
   "codemirror_mode": {
    "name": "ipython",
    "version": 3
   },
   "file_extension": ".py",
   "mimetype": "text/x-python",
   "name": "python",
   "nbconvert_exporter": "python",
   "pygments_lexer": "ipython3",
   "version": "3.11.9"
  }
 },
 "nbformat": 4,
 "nbformat_minor": 2
}
